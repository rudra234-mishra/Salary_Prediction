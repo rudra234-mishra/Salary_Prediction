{
 "cells": [
  {
   "cell_type": "code",
   "execution_count": 19,
   "id": "4bf829eb-219e-406c-a121-3e2efeb3f179",
   "metadata": {},
   "outputs": [],
   "source": [
    "import numpy as np\n",
    "import pickle\n",
    "import pandas as pd"
   ]
  },
  {
   "cell_type": "code",
   "execution_count": 21,
   "id": "be1740e8-5498-4a82-b042-30dde27530e0",
   "metadata": {},
   "outputs": [],
   "source": [
    "pipe=pickle.load(open(\"job_prediction.pkl\",\"rb\"))"
   ]
  },
  {
   "cell_type": "code",
   "execution_count": 17,
   "id": "d011ae35-579a-43bd-af4c-9ac73497460a",
   "metadata": {},
   "outputs": [],
   "source": [
    "new=np.array([[28.0,'Female',\"Master's\",\"Data Analyst\",3.0]],dtype='object').reshape(1,5)"
   ]
  },
  {
   "cell_type": "code",
   "execution_count": 23,
   "id": "a4523ff5-58e5-4433-8394-7e56312238a4",
   "metadata": {},
   "outputs": [
    {
     "data": {
      "text/plain": [
       "array([50743.68203314])"
      ]
     },
     "execution_count": 23,
     "metadata": {},
     "output_type": "execute_result"
    }
   ],
   "source": [
    "pipe.predict(pd.DataFrame([[28.0,'Female',\"Master's\",\"Data Analyst\",3.0]],columns=['Age','Gender','Education Level','Job Title','Years of Experience']))\t"
   ]
  }
 ],
 "metadata": {
  "kernelspec": {
   "display_name": "Python 3 (ipykernel)",
   "language": "python",
   "name": "python3"
  },
  "language_info": {
   "codemirror_mode": {
    "name": "ipython",
    "version": 3
   },
   "file_extension": ".py",
   "mimetype": "text/x-python",
   "name": "python",
   "nbconvert_exporter": "python",
   "pygments_lexer": "ipython3",
   "version": "3.12.4"
  }
 },
 "nbformat": 4,
 "nbformat_minor": 5
}
